{
 "cells": [
  {
   "cell_type": "markdown",
   "id": "489a11cf",
   "metadata": {},
   "source": [
    "# **2. HashMaps & HashSets**\n",
    "\n",
    "## **Definitions**\n",
    "### **HashMap (Dictionary)**\n",
    "A data structure that stores key-value pairs with average O(1) time complexity for insertions, deletions, and lookups.\n",
    "\n",
    "- Uses a hash function to map keys to bucket indices.\n",
    "\n",
    "- Collisions are resolved via chaining (linked lists in buckets) or open addressing (probing)."
   ]
  },
  {
   "cell_type": "code",
   "execution_count": null,
   "id": "2b03f1f8",
   "metadata": {},
   "outputs": [
    {
     "name": "stdout",
     "output_type": "stream",
     "text": [
      "5\n",
      "False\n",
      "apple: 3\n",
      "banana: 5\n"
     ]
    }
   ],
   "source": [
    "# Initialize a hashmap (Python dictionary)\n",
    "hashmap = {}\n",
    "\n",
    "# Insert key-value pairs\n",
    "hashmap[\"apple\"] = 2    # {\"apple\": 2}\n",
    "hashmap[\"banana\"] = 5   # {\"apple\": 2, \"banana\": 5}\n",
    "hashmap[\"cherry\"] = 7   # {\"apple\": 2, \"banana\": 5, \"cherry\": 7}\n",
    "\n",
    "# Access a value by key\n",
    "print(hashmap[\"banana\"])  # Output: 5\n",
    "\n",
    "# Update a value\n",
    "hashmap[\"apple\"] = 3     # {\"apple\": 3, \"banana\": 5, \"cherry\": 7}\n",
    "\n",
    "# Check if a key exists\n",
    "print(\"pear\" in hashmap)  # Output: False\n",
    "\n",
    "# Delete a key-value pair\n",
    "del hashmap[\"cherry\"]    # {\"apple\": 3, \"banana\": 5}\n",
    "\n",
    "# Iterate over items\n",
    "for key, value in hashmap.items():\n",
    "    print(f\"{key}: {value}\")\n"
   ]
  },
  {
   "cell_type": "markdown",
   "id": "e918bd22",
   "metadata": {},
   "source": [
    "### **HashSet**\n",
    "Stores unique elements using hashing. Internally implemented as a HashMap with dummy values."
   ]
  },
  {
   "cell_type": "code",
   "execution_count": null,
   "id": "4b4ac2ef",
   "metadata": {},
   "outputs": [
    {
     "name": "stdout",
     "output_type": "stream",
     "text": [
      "{1, 2, 3}\n"
     ]
    }
   ],
   "source": [
    "hashset = set()\n",
    "nums = [1, 2, 2, 3]\n",
    "for num in nums:\n",
    "    hashset.add(num)\n",
    "print(hashset)  # Output: {1, 2, 3}"
   ]
  },
  {
   "cell_type": "markdown",
   "id": "eed0217c",
   "metadata": {},
   "source": [
    "## **Common problems and solutions**\n"
   ]
  },
  {
   "cell_type": "code",
   "execution_count": null,
   "id": "d3e70f9b",
   "metadata": {},
   "outputs": [],
   "source": [
    "# Example dataset used throughout this notebook\n",
    "example_words = [\"eat\", \"tea\", \"tan\", \"ate\", \"nat\", \"bat\"]\n",
    "str1 = \"listen\"\n",
    "str2 = \"silent\"\n",
    "numbers = [2, 7, 11, 15]\n",
    "target = 9\n",
    "\n",
    "print(\"Base Data:\")\n",
    "print(\"Words:\", example_words)\n",
    "print(\"Strings:\", str1, \"|\", str2)\n",
    "print(\"Numbers:\", numbers, \"Target:\", target)"
   ]
  },
  {
   "cell_type": "markdown",
   "id": "60a7a8ed",
   "metadata": {},
   "source": [
    "### **Problem 1: Valid Anagram (LeetCode 242)**\n",
    "\n",
    "**Task:** Check if two strings are anagrams (rearrangements of each other).\n",
    "\n",
    "**Approach**\n",
    "Compare character frequencies using a HashMap.\n",
    "\n",
    "Time: O(n), Space: O(1) (fixed-size alphabet)."
   ]
  },
  {
   "cell_type": "code",
   "execution_count": null,
   "id": "68332a41",
   "metadata": {},
   "outputs": [],
   "source": [
    "def is_anagram(s: str, t: str) -> bool:\n",
    "    if len(s) != len(t):\n",
    "        return False\n",
    "    \n",
    "    freq = {}\n",
    "    # Build frequency map for 's'\n",
    "    for char in s:\n",
    "        freq[char] = freq.get(char, 0) + 1\n",
    "    \n",
    "    # Decrement using 't'\n",
    "    for char in t:\n",
    "        if freq.get(char, 0) == 0:\n",
    "            return False\n",
    "        freq[char] -= 1\n",
    "    \n",
    "    return True\n",
    "\n",
    "print(f\"Anagram Check: {is_anagram(str1, str2)}\")  # Output: True"
   ]
  },
  {
   "cell_type": "markdown",
   "id": "ebd9eb5a",
   "metadata": {},
   "source": [
    "### **Problem 2: Two Sum (LeetCode 1)**\n",
    "**Task:** Find two indices where their values sum to target.\n",
    "\n",
    "**Approach**\n",
    "Use a HashMap to store {value: index} for instant lookups.\n",
    "\n",
    "Time: O(n), Space: O(n)."
   ]
  },
  {
   "cell_type": "code",
   "execution_count": null,
   "id": "43f73c72",
   "metadata": {},
   "outputs": [],
   "source": [
    "def two_sum(nums: list, target: int) -> list:\n",
    "    seen = {}  # Maps values to their indices\n",
    "    for i, num in enumerate(nums):\n",
    "        complement = target - num\n",
    "        if complement in seen:\n",
    "            return [seen[complement], i]\n",
    "        seen[num] = i  # Add to seen list\n",
    "    return []\n",
    "\n",
    "print(f\"Two Sum Indices: {two_sum(numbers, target)}\")  # Output: [0, 1]"
   ]
  },
  {
   "cell_type": "markdown",
   "id": "a9b5996c",
   "metadata": {},
   "source": [
    "### **Problem 3: Group Anagrams (LeetCode 49)**\n",
    "**Task:** Group words that are anagrams into sublists.\n",
    "\n",
    "**Approach**\n",
    "Use sorted(word) as a HashMap key (anagrams sort to the same string).\n",
    "\n",
    "Time: O(n * k log k) (k = max word length), Space: O(n)."
   ]
  },
  {
   "cell_type": "code",
   "execution_count": null,
   "id": "2dc2b0c7",
   "metadata": {},
   "outputs": [],
   "source": [
    "def group_anagrams(strs: list) -> list:\n",
    "    groups = {}\n",
    "    for word in strs:\n",
    "        # Create a uniform key for anagrams\n",
    "        key = \"\".join(sorted(word))  \n",
    "        if key not in groups:\n",
    "            groups[key] = []\n",
    "        groups[key].append(word)\n",
    "    return list(groups.values())\n",
    "\n",
    "print(\"Anagram Groups:\", group_anagrams(example_words))\n",
    "# Output: [['eat', 'tea', 'ate'], ['tan', 'nat'], ['bat']]"
   ]
  },
  {
   "cell_type": "markdown",
   "id": "f02b1c32",
   "metadata": {},
   "source": [
    "### **Problem 4: LRU Cache (LeetCode 146)**\n",
    "**Task:** Design a cache that discards the least recently used item when full.\n",
    "\n",
    "**Approach**\n",
    "Combine a HashMap (for O(1) access) and a Doubly Linked List (to track usage order).\n",
    "\n",
    "Time: O(1) for get/put, Space: O(capacity)."
   ]
  },
  {
   "cell_type": "code",
   "execution_count": null,
   "id": "180ae288",
   "metadata": {},
   "outputs": [],
   "source": [
    "class LRUCache:\n",
    "    class Node:\n",
    "        def __init__(self, key=0, val=0):\n",
    "            self.key = key\n",
    "            self.val = val\n",
    "            self.prev = self.next = None\n",
    "\n",
    "    def __init__(self, capacity: int):\n",
    "        self.cap = capacity\n",
    "        self.cache = {}\n",
    "        # Dummy nodes to simplify edge cases\n",
    "        self.head = self.Node()\n",
    "        self.tail = self.Node()\n",
    "        self.head.next = self.tail\n",
    "        self.tail.prev = self.head\n",
    "\n",
    "    def _add_front(self, node):\n",
    "        \"\"\"Add node to the front (MRU position)\"\"\"\n",
    "        node.next = self.head.next\n",
    "        node.prev = self.head\n",
    "        self.head.next.prev = node\n",
    "        self.head.next = node\n",
    "\n",
    "    def _remove(self, node):\n",
    "        \"\"\"Remove node from its current position\"\"\"\n",
    "        prev_node = node.prev\n",
    "        next_node = node.next\n",
    "        prev_node.next = next_node\n",
    "        next_node.prev = prev_node\n",
    "\n",
    "    def get(self, key: int) -> int:\n",
    "        if key not in self.cache:\n",
    "            return -1\n",
    "        node = self.cache[key]\n",
    "        # Move to front to mark as recently used\n",
    "        self._remove(node)\n",
    "        self._add_front(node)\n",
    "        return node.val\n",
    "\n",
    "    def put(self, key: int, value: int) -> None:\n",
    "        if key in self.cache:\n",
    "            self._remove(self.cache[key])\n",
    "        new_node = self.Node(key, value)\n",
    "        self.cache[key] = new_node\n",
    "        self._add_front(new_node)\n",
    "        # Evict LRU if over capacity\n",
    "        if len(self.cache) > self.cap:\n",
    "            lru = self.tail.prev\n",
    "            self._remove(lru)\n",
    "            del self.cache[lru.key]\n",
    "\n",
    "# Usage Example:\n",
    "cache = LRUCache(2)\n",
    "cache.put(1, 1)\n",
    "cache.put(2, 2)\n",
    "cache.get(1)     # Returns 1, marks it as MRU\n",
    "cache.put(3, 3)  # Evicts key 2"
   ]
  },
  {
   "cell_type": "markdown",
   "id": "d1d5e6cd",
   "metadata": {},
   "source": [
    "### **Key Takeaways**\n",
    "**HashMaps** enable O(1) lookups by trading space for speed.\n",
    "\n",
    "**Frequency Counters** simplify problems involving element counts.\n",
    "\n",
    "**Collision Handling** is critical for HashMap performance.\n",
    "\n",
    "**LRU Cache** combines HashMaps and DLLs for efficient operations."
   ]
  }
 ],
 "metadata": {
  "kernelspec": {
   "display_name": "Python 3",
   "language": "python",
   "name": "python3"
  },
  "language_info": {
   "codemirror_mode": {
    "name": "ipython",
    "version": 3
   },
   "file_extension": ".py",
   "mimetype": "text/x-python",
   "name": "python",
   "nbconvert_exporter": "python",
   "pygments_lexer": "ipython3",
   "version": "3.8.10"
  }
 },
 "nbformat": 4,
 "nbformat_minor": 5
}
