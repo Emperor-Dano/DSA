{
 "cells": [
  {
   "cell_type": "markdown",
   "id": "9a8a81e4",
   "metadata": {},
   "source": [
    "# **3. Linked Lists**\n",
    "**Concepts:** Fast & Slow Pointers, Reversal, Merging, Cycle Detection\n",
    "\n",
    "## **Definitions**\n",
    "### **Linked List**\n",
    "A linear data structure where elements (nodes) are connected via pointers.\n",
    "\n",
    "- Singly Linked List: Each node points to the next node.\n",
    "\n",
    "- Doubly Linked List: Nodes point to both next and previous nodes.\n",
    "\n",
    "- Circular Linked List: The tail node points back to the head.\n",
    "\n",
    "\n",
    "### **Core Concepts**\n",
    "**1. Fast & Slow Pointers (Tortoise & Hare)** <br>\n",
    "- **Use Case:** Detect cycles, find midpoints.\n",
    "\n",
    "- **Why Optimal:** O(1) space vs. O(n) for hash-based approaches.\n",
    "\n",
    "**2. Reversal**\n",
    "- **Iterative:** Adjust pointers in-place to reverse direction.\n",
    "\n",
    "- **Recursive:** Reverse sublists and re-link nodes.\n",
    "\n",
    "**3. Merging**\n",
    "- Combine two sorted lists by adjusting pointers (O(1) space).\n",
    "\n",
    "**4. Cycle Detection**\n",
    "- Floyd’s Algorithm: Fast pointer catches slow pointer if a cycle exists."
   ]
  },
  {
   "cell_type": "code",
   "execution_count": 1,
   "id": "17123bbf",
   "metadata": {},
   "outputs": [
    {
     "name": "stdout",
     "output_type": "stream",
     "text": [
      "Sample Linked Lists:\n",
      "List 1: 1 → 2 → 3 → 4 → 5 → None\n"
     ]
    }
   ],
   "source": [
    "# Example Linked Lists for all problems\n",
    "class ListNode:\n",
    "    def __init__(self, val=0, next=None):\n",
    "        self.val = val\n",
    "        self.next = next\n",
    "\n",
    "# Helper function to visualize linked lists\n",
    "def print_list(head):\n",
    "    curr = head\n",
    "    while curr:\n",
    "        print(curr.val, \"→\", end=\" \")\n",
    "        curr = curr.next\n",
    "    print(\"None\")\n",
    "\n",
    "# Sample Lists\n",
    "# List 1: 1 → 2 → 3 → 4 → 5\n",
    "head = ListNode(1, ListNode(2, ListNode(3, ListNode(4, ListNode(5)))))\n",
    "\n",
    "# List 2: 1 → 3 → 5\n",
    "sorted1 = ListNode(1, ListNode(3, ListNode(5)))\n",
    "\n",
    "# List 3: 2 → 4 → 6\n",
    "sorted2 = ListNode(2, ListNode(4, ListNode(6)))\n",
    "\n",
    "# Cyclic List: 1 → 2 → 3 → 4 → 2 (cycle to node 2)\n",
    "cycle_node = ListNode(2)\n",
    "cycle_head = ListNode(1, cycle_node)\n",
    "cycle_node.next = ListNode(3, ListNode(4, cycle_node))  # Creates cycle\n",
    "\n",
    "print(\"Sample Linked Lists:\")\n",
    "print(\"List 1:\", end=\" \")\n",
    "print_list(head)  # 1 → 2 → 3 → 4 → 5 → None"
   ]
  },
  {
   "cell_type": "markdown",
   "id": "9b00e284",
   "metadata": {},
   "source": [
    "## **Common problems and solutions**"
   ]
  },
  {
   "cell_type": "markdown",
   "id": "08063427",
   "metadata": {},
   "source": [
    "### **Problem 1: Reverse Linked List (LeetCode 206)**\n",
    "**Task:** Reverse a singly linked list.\n",
    "\n",
    "**Approach**\n",
    "- Iterative: Use three pointers (prev, curr, next) to reverse links.\n",
    "\n",
    "- Time: O(n), Space: O(1)."
   ]
  },
  {
   "cell_type": "code",
   "execution_count": 2,
   "id": "bc15ad3d",
   "metadata": {},
   "outputs": [
    {
     "name": "stdout",
     "output_type": "stream",
     "text": [
      "Reversed List 1: 5 → 4 → 3 → 2 → 1 → None\n"
     ]
    }
   ],
   "source": [
    "def reverse_list(head: ListNode) -> ListNode:\n",
    "    prev = None\n",
    "    curr = head\n",
    "    while curr:\n",
    "        next_node = curr.next  # Save next node\n",
    "        curr.next = prev       # Reverse link\n",
    "        prev = curr            # Move prev forward\n",
    "        curr = next_node       # Move curr forward\n",
    "    return prev  # New head\n",
    "\n",
    "reversed_head = reverse_list(head)\n",
    "print(\"Reversed List 1:\", end=\" \")\n",
    "print_list(reversed_head)  # 5 → 4 → 3 → 2 → 1 → None"
   ]
  },
  {
   "cell_type": "markdown",
   "id": "e063001b",
   "metadata": {},
   "source": [
    "### **Problem 2: Merge Two Sorted Lists (LeetCode 21)**\n",
    "**Task:** Merge two sorted lists into one sorted list.\n",
    "\n",
    "**Approach**\n",
    "- Use a dummy node to simplify edge cases.\n",
    "\n",
    "- Adjust pointers to stitch lists together.\n",
    "\n",
    "- Time: O(n + m), Space: O(1)."
   ]
  },
  {
   "cell_type": "code",
   "execution_count": 3,
   "id": "a41a0b08",
   "metadata": {},
   "outputs": [
    {
     "name": "stdout",
     "output_type": "stream",
     "text": [
      "Merged Sorted Lists: 1 → 2 → 3 → 4 → 5 → 6 → None\n"
     ]
    }
   ],
   "source": [
    "def merge_two_lists(l1: ListNode, l2: ListNode) -> ListNode:\n",
    "    dummy = ListNode(-1)  # Temporary starter node\n",
    "    curr = dummy\n",
    "    \n",
    "    while l1 and l2:\n",
    "        if l1.val <= l2.val:\n",
    "            curr.next = l1\n",
    "            l1 = l1.next\n",
    "        else:\n",
    "            curr.next = l2\n",
    "            l2 = l2.next\n",
    "        curr = curr.next\n",
    "    \n",
    "    curr.next = l1 if l1 else l2  # Attach remaining nodes\n",
    "    return dummy.next\n",
    "\n",
    "merged = merge_two_lists(sorted1, sorted2)\n",
    "print(\"Merged Sorted Lists:\", end=\" \")\n",
    "print_list(merged)  # 1 → 2 → 3 → 4 → 5 → 6 → None"
   ]
  },
  {
   "cell_type": "markdown",
   "id": "01d23fe6",
   "metadata": {},
   "source": [
    "### **Problem 3: Detect Cycle (LeetCode 141)**\n",
    "**Task:** Determine if a linked list has a cycle.\n",
    "\n",
    "**Approach**\n",
    "- Fast & Slow Pointers: If they meet, a cycle exists.\n",
    "\n",
    "- Time: O(n), Space: O(1)."
   ]
  },
  {
   "cell_type": "code",
   "execution_count": 4,
   "id": "e931aa4b",
   "metadata": {},
   "outputs": [
    {
     "name": "stdout",
     "output_type": "stream",
     "text": [
      "Cycle Detected: True\n"
     ]
    }
   ],
   "source": [
    "def has_cycle(head: ListNode) -> bool:\n",
    "    slow = fast = head\n",
    "    while fast and fast.next:\n",
    "        slow = slow.next\n",
    "        fast = fast.next.next\n",
    "        if slow == fast:\n",
    "            return True\n",
    "    return False\n",
    "\n",
    "print(\"Cycle Detected:\", has_cycle(cycle_head))  # True"
   ]
  },
  {
   "cell_type": "markdown",
   "id": "66d6e6af",
   "metadata": {},
   "source": [
    "### **Problem 4: Palindrome Linked List (LeetCode 234)**\n",
    "**Task:** Check if a list reads the same forwards and backwards.\n",
    "\n",
    "**Approach**\n",
    "- Fast & Slow Pointers to find midpoint.\n",
    "\n",
    "- Reverse second half and compare.\n",
    "\n",
    "- Time: O(n), Space: O(1)."
   ]
  },
  {
   "cell_type": "code",
   "execution_count": 6,
   "id": "f54e5e0d",
   "metadata": {},
   "outputs": [
    {
     "name": "stdout",
     "output_type": "stream",
     "text": [
      "Is Palindrome: True\n"
     ]
    }
   ],
   "source": [
    "def is_palindrome(head: ListNode) -> bool:\n",
    "    # Step 1: Find midpoint with slow/fast\n",
    "    slow = fast = head\n",
    "    while fast and fast.next:\n",
    "        slow = slow.next        # Slow ends at midpoint\n",
    "        fast = fast.next.next\n",
    "    \n",
    "    # Step 2: Reverse second half\n",
    "    prev = None\n",
    "    while slow:\n",
    "        next_node = slow.next  # Save next node\n",
    "        slow.next = prev       # Reverse the pointer\n",
    "        prev = slow            # Move prev forward\n",
    "        slow = next_node       # Move slow forward\n",
    "    # Now, prev is the head of the reversed second half\n",
    "    \n",
    "    # Step 3: Compare first half and reversed second half\n",
    "    left, right = head, prev\n",
    "    while right:\n",
    "        if left.val != right.val:\n",
    "            return False\n",
    "        left = left.next\n",
    "        right = right.next\n",
    "    return True\n",
    "\n",
    "print(\"Is Palindrome:\", is_palindrome(head))  # True"
   ]
  },
  {
   "cell_type": "markdown",
   "id": "586e4ade",
   "metadata": {},
   "source": [
    "### **Complexity Cheat Sheet**\n",
    "| Problem            | Time     | Space   | Key Insight                          |\n",
    "|--------------------|----------|---------|--------------------------------------|\n",
    "| Reverse Linked List | O(n)     | O(1)    | Three-pointer reversal               |\n",
    "| Merge Sorted Lists | O(n + m) | O(1)    | Dummy node for edge cases            |\n",
    "| Detect Cycle       | O(n)     | O(1)    | Fast/slow pointer race               |\n",
    "| Palindrome Check   | O(n)     | O(1)    | Reverse half + two-pointer comparison|\n",
    "\n",
    "\n",
    "### **Key Takeaways**\n",
    "- Dummy Nodes simplify edge cases in merging/partitioning.\n",
    "\n",
    "- Fast & Slow Pointers solve cycle and midpoint problems optimally.\n",
    "\n",
    "- Reversal often requires careful pointer manipulation.\n",
    "\n",
    "- Always test for edge cases: empty lists, single nodes, cycles at head/tail."
   ]
  }
 ],
 "metadata": {
  "kernelspec": {
   "display_name": "Python 3",
   "language": "python",
   "name": "python3"
  },
  "language_info": {
   "codemirror_mode": {
    "name": "ipython",
    "version": 3
   },
   "file_extension": ".py",
   "mimetype": "text/x-python",
   "name": "python",
   "nbconvert_exporter": "python",
   "pygments_lexer": "ipython3",
   "version": "3.8.10"
  }
 },
 "nbformat": 4,
 "nbformat_minor": 5
}
