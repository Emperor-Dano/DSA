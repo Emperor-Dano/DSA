{
 "cells": [
  {
   "cell_type": "markdown",
   "id": "1dd6cdf9",
   "metadata": {},
   "source": [
    "# **4. Stacks & Queues**\n",
    "Concepts: LIFO/FIFO, Monotonic Stack, BFS/DFS, Next Greater Element\n",
    "\n",
    "### **Definitions**\n",
    "### **Stack**\n",
    "A Last-In-First-Out (LIFO) data structure. Operations:\n",
    "\n",
    "- push(item): Add to the top.\n",
    "\n",
    "- pop(): Remove from the top.\n",
    "\n",
    "- peek(): View the top item.\n",
    "Real-World Analogy: A stack of books.\n",
    "\n",
    "### **Queue**\n",
    "A First-In-First-Out (FIFO) data structure. Operations:\n",
    "\n",
    "- enqueue(item): Add to the rear.\n",
    "\n",
    "- dequeue(): Remove from the front.\n",
    "\n",
    "- peek(): View the front item.\n",
    "Real-World Analogy: A checkout line.\n",
    "\n",
    "### **Core Concepts**\n",
    "### **1. Monotonic Stack**\n",
    "A stack where elements are kept in strictly increasing/decreasing order.\n",
    "Use Case: Efficiently solve \"Next Greater Element\" or \"Largest Rectangle in Histogram.\"\n",
    "\n",
    "### **2. Breadth-First Search (BFS)**\n",
    "- Uses a queue to explore nodes level by level.\n",
    "\n",
    "- Ideal for finding shortest paths in unweighted graphs.\n",
    "\n",
    "### **3. Depth-First Search (DFS)**\n",
    "- Uses a stack (or recursion) to explore nodes branch by branch.\n",
    "\n",
    "- Ideal for backtracking or pathfinding."
   ]
  },
  {
   "cell_type": "code",
   "execution_count": 1,
   "id": "459d983c",
   "metadata": {},
   "outputs": [
    {
     "name": "stdout",
     "output_type": "stream",
     "text": [
      "Sample Data:\n",
      "Temperatures: [73, 74, 75, 71, 69, 72, 76, 73]\n",
      "Parentheses: ()[]{}\n"
     ]
    }
   ],
   "source": [
    "# Example Data Structures\n",
    "print(\"Sample Data:\")\n",
    "temperatures = [73, 74, 75, 71, 69, 72, 76, 73]  # For Daily Temperatures problem\n",
    "parentheses = \"()[]{}\"                             # For Valid Parentheses problem\n",
    "print(\"Temperatures:\", temperatures)\n",
    "print(\"Parentheses:\", parentheses)"
   ]
  },
  {
   "cell_type": "markdown",
   "id": "21a9d970",
   "metadata": {},
   "source": [
    "## **Common problems and solutions**\n",
    "### **Problem 1: Valid Parentheses (LeetCode 20)**\n",
    "**Task:** Check if a string of brackets is properly nested.\n",
    "\n",
    "**Approach**\n",
    "- Use a stack to track opening brackets.\n",
    "\n",
    "- Pop the stack when a closing bracket matches the top.\n",
    "\n",
    "- Time: O(n), Space: O(n)."
   ]
  },
  {
   "cell_type": "code",
   "execution_count": 2,
   "id": "1f5229bc",
   "metadata": {},
   "outputs": [
    {
     "name": "stdout",
     "output_type": "stream",
     "text": [
      "Valid Parentheses: True\n"
     ]
    }
   ],
   "source": [
    "def is_valid(s: str) -> bool:\n",
    "    stack = []\n",
    "    mapping = {\")\": \"(\", \"]\": \"[\", \"}\": \"{\"}  # Closing -> Opening pairs\n",
    "    \n",
    "    for char in s:\n",
    "        if char in mapping:  # Closing bracket\n",
    "            # Pop if stack isn't empty, else use a dummy value\n",
    "            top = stack.pop() if stack else '#'  \n",
    "            if mapping[char] != top:\n",
    "                return False\n",
    "        else:  # Opening bracket\n",
    "            stack.append(char)\n",
    "    return not stack  # True if stack is empty\n",
    "\n",
    "print(f\"Valid Parentheses: {is_valid(parentheses)}\")  # True"
   ]
  },
  {
   "cell_type": "markdown",
   "id": "0e65c4b4",
   "metadata": {},
   "source": [
    "### **Problem 2: Daily Temperatures (LeetCode 739)**\n",
    "**Task:** For each day, find how many days until a warmer temperature.\n",
    "\n",
    "**Approach**\n",
    "- Use a monotonic decreasing stack to track unresolved days.\n",
    "- Pop and calculate days when a warmer temperature is found.\n",
    "- Time: O(n), Space: O(n)."
   ]
  },
  {
   "cell_type": "code",
   "execution_count": 3,
   "id": "02d2fee2",
   "metadata": {},
   "outputs": [
    {
     "name": "stdout",
     "output_type": "stream",
     "text": [
      "Daily Temperatures: [1, 1, 4, 2, 1, 1, 0, 0]\n"
     ]
    }
   ],
   "source": [
    "def daily_temperatures(temps: list) -> list:\n",
    "    stack = []  # Stores indices of unresolved days\n",
    "    result = [0] * len(temps)\n",
    "    \n",
    "    for i, temp in enumerate(temps):\n",
    "        # Check if current temp resolves previous days\n",
    "        while stack and temp > temps[stack[-1]]:\n",
    "            prev_idx = stack.pop()\n",
    "            result[prev_idx] = i - prev_idx\n",
    "        stack.append(i)\n",
    "    return result\n",
    "\n",
    "print(\"Daily Temperatures:\", daily_temperatures(temperatures)) "
   ]
  },
  {
   "cell_type": "markdown",
   "id": "342c8495",
   "metadata": {},
   "source": [
    "### **Problem 3: Implement Queue using Stacks (LeetCode 232)**\n",
    "**Task:** Simulate a queue using two stacks.\n",
    "\n",
    "**Approach**\n",
    "- Input Stack: For enqueues.\n",
    "- Output Stack: For dequeues. Transfer elements when empty.\n",
    "- Time: Amortized O(1) per operation."
   ]
  },
  {
   "cell_type": "code",
   "execution_count": 4,
   "id": "00583ae6",
   "metadata": {},
   "outputs": [
    {
     "name": "stdout",
     "output_type": "stream",
     "text": [
      "<__main__.MyQueue object at 0x000001B5C42F9C70>\n",
      "<__main__.MyQueue object at 0x000001B5C42F9C70>\n",
      "<__main__.MyQueue object at 0x000001B5C42F9C70>\n",
      "<__main__.MyQueue object at 0x000001B5C42F9C70>\n"
     ]
    }
   ],
   "source": [
    "class MyQueue:\n",
    "    def __init__(self):\n",
    "        self.input = []  # For push operations\n",
    "        self.output = []  # For pop/peek operations\n",
    "    \n",
    "    def push(self, x: int) -> None:\n",
    "        self.input.append(x)\n",
    "    \n",
    "    def pop(self) -> int:\n",
    "        self._transfer()\n",
    "        return self.output.pop()\n",
    "    \n",
    "    def peek(self) -> int:\n",
    "        self._transfer()\n",
    "        return self.output[-1]\n",
    "    \n",
    "    def _transfer(self):\n",
    "        # Move elements from input to output if output is empty\n",
    "        if not self.output:\n",
    "            while self.input:\n",
    "                self.output.append(self.input.pop())\n",
    "    \n",
    "    def empty(self) -> bool:\n",
    "        return not self.input and not self.output\n",
    "\n",
    "# Usage Example:\n",
    "q = MyQueue()\n",
    "q.push(1)\n",
    "print(q)\n",
    "q.push(2)\n",
    "print(q)\n",
    "q.peek()  # Returns 1\n",
    "print(q)\n",
    "q.pop()   # Returns 1\n",
    "print(q)"
   ]
  },
  {
   "cell_type": "markdown",
   "id": "2eaade27",
   "metadata": {},
   "source": [
    "### **Problem 4: BFS Level Order Traversal (LeetCode 102)**\n",
    "**Task:** Traverse a binary tree level by level.\n",
    "\n",
    "**Approach**\n",
    "- Use a queue to track nodes at each level.\n",
    "- Process nodes in FIFO order.\n",
    "- Time: O(n), Space: O(n)."
   ]
  },
  {
   "cell_type": "code",
   "execution_count": 5,
   "id": "dae92ce2",
   "metadata": {},
   "outputs": [
    {
     "name": "stdout",
     "output_type": "stream",
     "text": [
      "BFS Level Order: [[3], [9, 20], [15, 7]]\n"
     ]
    }
   ],
   "source": [
    "from collections import deque\n",
    "\n",
    "class TreeNode:\n",
    "    def __init__(self, val=0, left=None, right=None):\n",
    "        self.val = val\n",
    "        self.left = left\n",
    "        self.right = right\n",
    "\n",
    "def level_order(root: TreeNode) -> list:\n",
    "    if not root:\n",
    "        return []\n",
    "    queue = deque([root])\n",
    "    result = []\n",
    "    \n",
    "    while queue:\n",
    "        level = []\n",
    "        for _ in range(len(queue)):  # Process current level\n",
    "            node = queue.popleft()\n",
    "            level.append(node.val)\n",
    "            if node.left:\n",
    "                queue.append(node.left)\n",
    "            if node.right:\n",
    "                queue.append(node.right)\n",
    "        result.append(level)\n",
    "    return result\n",
    "\n",
    "# Example Tree:\n",
    "#     3\n",
    "#    / \\\n",
    "#   9  20\n",
    "#     /  \\\n",
    "#    15   7\n",
    "root = TreeNode(3, TreeNode(9), TreeNode(20, TreeNode(15), TreeNode(7)))\n",
    "print(\"BFS Level Order:\", level_order(root))  # [[3], [9,20], [15,7]]"
   ]
  },
  {
   "cell_type": "markdown",
   "id": "37e76c28",
   "metadata": {},
   "source": [
    "\n",
    "### **Complexity Cheat Sheet**\n",
    "\n",
    "| Problem             | Time       | Space      | Key Insight                          |\n",
    "|---------------------|------------|------------|--------------------------------------|\n",
    "| Valid Parentheses   | \\( O(n) \\) | \\( O(n) \\) | Stack for bracket matching          |\n",
    "| Daily Temperatures  | \\( O(n) \\) | \\( O(n) \\) | Monotonic stack for unresolved days  |\n",
    "| Queue via Stacks    | \\( O(1)^* \\)| \\( O(n) \\) | Amortized cost for transfers        |\n",
    "| BFS Level Order     | \\( O(n) \\) | \\( O(n) \\) | Queue for level tracking            |\n",
    "\n",
    "### **Key Takeaways**\n",
    "- Monotonic Stacks excel at problems requiring ordered comparisons (e.g., next greater element).\n",
    "\n",
    "- BFS uses queues to explore nodes level-wise (shortest path).\n",
    "\n",
    "- Stacks and queues can simulate each other with trade-offs.\n",
    "\n",
    "- Always handle edge cases (e.g., empty stacks in MyQueue)."
   ]
  }
 ],
 "metadata": {
  "kernelspec": {
   "display_name": "Python 3",
   "language": "python",
   "name": "python3"
  },
  "language_info": {
   "codemirror_mode": {
    "name": "ipython",
    "version": 3
   },
   "file_extension": ".py",
   "mimetype": "text/x-python",
   "name": "python",
   "nbconvert_exporter": "python",
   "pygments_lexer": "ipython3",
   "version": "3.8.10"
  }
 },
 "nbformat": 4,
 "nbformat_minor": 5
}
