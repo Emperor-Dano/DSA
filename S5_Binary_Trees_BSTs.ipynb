{
 "cells": [
  {
   "cell_type": "markdown",
   "id": "57a9bc7c",
   "metadata": {},
   "source": [
    "# **5. Binary Trees & BSTs**\n",
    "Concepts: Tree Traversals, DFS/BFS, Tree Diameter, BST Validation\n",
    "\n",
    "## **Definitions**\n",
    "### **Binary Tree**\n",
    "A hierarchical structure where each node has 0–2 children.\n",
    "\n",
    "- **Root:** Topmost node.\n",
    "\n",
    "- **Leaf:** Node with no children.\n",
    "\n",
    "- **Depth:** Distance from root. Height: Longest path to a leaf.\n",
    "\n",
    "- **Real-World Analogy:** A family tree where each person can have up to two children.\n",
    "\n",
    "### **Binary Search Tree (BST)**\n",
    "A binary tree with ordered properties:\n",
    "\n",
    "- Left subtree values < root value.\n",
    "\n",
    "- Right subtree values > root value.\n",
    "\n",
    "- Enables efficient O(log n) searches (if balanced).\n",
    "\n",
    "## **Core Concepts**\n",
    "### **1. Tree Traversals**\n",
    "- **Inorder (Left-Root-Right):** Produces sorted order in BSTs.\n",
    "\n",
    "- **Preorder (Root-Left-Right):** Used to clone trees.\n",
    "\n",
    "- **Postorder (Left-Right-Root):** Used to delete trees.\n",
    "\n",
    "### **2. DFS vs BFS**\n",
    "- **DFS:** Uses recursion/stack (depth exploration).\n",
    "\n",
    "- **BFS:** Uses a queue (level exploration).\n",
    "\n",
    "### **3. Tree Diameter**\n",
    "The longest path between any two nodes (may not pass through the root)."
   ]
  },
  {
   "cell_type": "code",
   "execution_count": 1,
   "id": "f29eb65a",
   "metadata": {},
   "outputs": [
    {
     "name": "stdout",
     "output_type": "stream",
     "text": [
      "Sample Trees Created\n"
     ]
    }
   ],
   "source": [
    "# Example Tree Structures\n",
    "class TreeNode:\n",
    "    def __init__(self, val=0, left=None, right=None):\n",
    "        self.val = val\n",
    "        self.left = left\n",
    "        self.right = right\n",
    "\n",
    "# Binary Tree\n",
    "#       1\n",
    "#      / \\\n",
    "#     2   3\n",
    "#    / \\\n",
    "#   4   5\n",
    "root = TreeNode(1, TreeNode(2, TreeNode(4), TreeNode(5)), TreeNode(3))\n",
    "\n",
    "# BST\n",
    "#       4\n",
    "#      / \\\n",
    "#     2   6\n",
    "#    / \\\n",
    "#   1   3\n",
    "bst_root = TreeNode(4, TreeNode(2, TreeNode(1), TreeNode(3)), TreeNode(6))\n",
    "\n",
    "print(\"Sample Trees Created\")"
   ]
  },
  {
   "cell_type": "markdown",
   "id": "ecbc0da9",
   "metadata": {},
   "source": [
    "## **Common problems and solutions**\n",
    "### **Problem 1: Maximum Depth (LeetCode 104)**\n",
    "\n",
    "**Task:** Find the height of a binary tree.\n",
    "\n",
    "**Approach**\n",
    "- **Recursive DFS:** Height = 1 + max(left_height, right_height).\n",
    "\n",
    "- **Time:** O(n), Space: O(h) (h = tree height)."
   ]
  },
  {
   "cell_type": "code",
   "execution_count": 2,
   "id": "2cebb4cc",
   "metadata": {},
   "outputs": [
    {
     "name": "stdout",
     "output_type": "stream",
     "text": [
      "Tree Height: 3\n"
     ]
    }
   ],
   "source": [
    "def max_depth(root: TreeNode) -> int:\n",
    "    if not root:\n",
    "        return 0\n",
    "    left_depth = max_depth(root.left)   # Depth of left subtree\n",
    "    right_depth = max_depth(root.right) # Depth of right subtree\n",
    "    return 1 + max(left_depth, right_depth)  # Add 1 for current node\n",
    "\n",
    "print(f\"Tree Height: {max_depth(root)}\")  # Output: 3"
   ]
  },
  {
   "cell_type": "markdown",
   "id": "29bc99ff",
   "metadata": {},
   "source": [
    "### **Problem 2: Lowest Common Ancestor (LeetCode 236)**\n",
    "**Task:** Find the deepest node that is an ancestor of two given nodes.\n",
    "\n",
    "**Approach**\n",
    "- **Recursive Search:** If both nodes are in left/right subtree, LCA is in that subtree.\n",
    "\n",
    "- **Time:** O(n), Space: O(h)."
   ]
  },
  {
   "cell_type": "code",
   "execution_count": 3,
   "id": "f5b038c8",
   "metadata": {},
   "outputs": [
    {
     "name": "stdout",
     "output_type": "stream",
     "text": [
      "LCA Value: 2\n"
     ]
    }
   ],
   "source": [
    "def lowest_common_ancestor(root: TreeNode, p: TreeNode, q: TreeNode) -> TreeNode:\n",
    "    if not root or root == p or root == q:\n",
    "        return root\n",
    "    left = lowest_common_ancestor(root.left, p, q)   # Search left\n",
    "    right = lowest_common_ancestor(root.right, p, q) # Search right\n",
    "    if left and right:  # p and q are in different subtrees\n",
    "        return root\n",
    "    return left or right  # Return the non-null subtree result\n",
    "\n",
    "# Example: LCA of nodes 4 & 5 is 2\n",
    "p = root.left.left  # Node 4\n",
    "q = root.left.right # Node 5\n",
    "lca_node = lowest_common_ancestor(root, p, q)\n",
    "print(f\"LCA Value: {lca_node.val if lca_node else None}\")  # Output: 2"
   ]
  },
  {
   "cell_type": "markdown",
   "id": "940564c8",
   "metadata": {},
   "source": [
    "### **Problem 3: Serialize/Deserialize Tree (LeetCode 297)**\n",
    "**Task:** Convert a tree to a string and reconstruct it.\n",
    "\n",
    "**Approach**\n",
    "- **Preorder Traversal:** Use \"None\" markers for null nodes.\n",
    "\n",
    "- **Time:** O(n), Space: O(n)."
   ]
  },
  {
   "cell_type": "code",
   "execution_count": 4,
   "id": "c3b49998",
   "metadata": {},
   "outputs": [
    {
     "name": "stdout",
     "output_type": "stream",
     "text": [
      "Serialized Tree: 1,2,4,None,None,5,None,None,3,None,None\n"
     ]
    }
   ],
   "source": [
    "def serialize(root: TreeNode) -> str:\n",
    "    res = []\n",
    "    def dfs(node):\n",
    "        if not node:\n",
    "            res.append(\"None\")\n",
    "            return\n",
    "        res.append(str(node.val))\n",
    "        dfs(node.left)\n",
    "        dfs(node.right)\n",
    "    dfs(root)\n",
    "    return \",\".join(res)\n",
    "\n",
    "def deserialize(data: str) -> TreeNode:\n",
    "    nodes = data.split(\",\")\n",
    "    def build():\n",
    "        val = nodes.pop(0)\n",
    "        if val == \"None\":\n",
    "            return None\n",
    "        node = TreeNode(int(val))\n",
    "        node.left = build()\n",
    "        node.right = build()\n",
    "        return node\n",
    "    return build()\n",
    "\n",
    "serialized = serialize(root)\n",
    "print(\"Serialized Tree:\", serialized)  # \"1,2,4,None,None,5,None,None,3,None,None\"\n",
    "deserialized_root = deserialize(serialized)"
   ]
  },
  {
   "cell_type": "markdown",
   "id": "13ba8307",
   "metadata": {},
   "source": [
    "### **Problem 4: Tree Diameter (LeetCode 543)**\n",
    "**Task:** Find the length of the longest path between two nodes.\n",
    "\n",
    "**Approach**\n",
    "- **Postorder DFS:** Track maximum diameter while computing heights.\n",
    "\n",
    "- **Time:** O(n), Space: O(h)."
   ]
  },
  {
   "cell_type": "code",
   "execution_count": 5,
   "id": "8e7bbe78",
   "metadata": {},
   "outputs": [
    {
     "name": "stdout",
     "output_type": "stream",
     "text": [
      "Tree Diameter: 3\n"
     ]
    }
   ],
   "source": [
    "def diameter_of_binary_tree(root: TreeNode) -> int:\n",
    "    max_diameter = 0\n",
    "    def height(node):\n",
    "        nonlocal max_diameter\n",
    "        if not node:\n",
    "            return 0\n",
    "        left = height(node.left)    # Left subtree height\n",
    "        right = height(node.right)  # Right subtree height\n",
    "        max_diameter = max(max_diameter, left + right)  # Update diameter\n",
    "        return 1 + max(left, right) # Return height\n",
    "    height(root)\n",
    "    return max_diameter\n",
    "\n",
    "print(f\"Tree Diameter: {diameter_of_binary_tree(root)}\")  # Output: 3 (Path 4-2-5)"
   ]
  },
  {
   "cell_type": "markdown",
   "id": "0a22db67",
   "metadata": {},
   "source": [
    "### **Problem 5: Validate BST (LeetCode 98)**\n",
    "**Task:** Check if a binary tree is a valid BST.\n",
    "\n",
    "**Approach**\n",
    "- **Inorder Traversal:** Check if values are sorted.\n",
    "\n",
    "- **Time:** O(n), **Space:** O(h)."
   ]
  },
  {
   "cell_type": "code",
   "execution_count": 6,
   "id": "fbd69029",
   "metadata": {},
   "outputs": [
    {
     "name": "stdout",
     "output_type": "stream",
     "text": [
      "Is BST Valid: True\n"
     ]
    }
   ],
   "source": [
    "def is_valid_bst(root: TreeNode) -> bool:\n",
    "    prev = None\n",
    "    def inorder(node):\n",
    "        nonlocal prev\n",
    "        if not node:\n",
    "            return True\n",
    "        if not inorder(node.left):  # Check left subtree\n",
    "            return False\n",
    "        if prev is not None and node.val <= prev:  # Ensure ascending order\n",
    "            return False\n",
    "        prev = node.val  # Update previous value\n",
    "        return inorder(node.right) # Check right subtree\n",
    "    return inorder(root)\n",
    "\n",
    "print(f\"Is BST Valid: {is_valid_bst(bst_root)}\")  # True"
   ]
  },
  {
   "cell_type": "markdown",
   "id": "20861542",
   "metadata": {},
   "source": [
    "### **Complexity Cheat Sheet**\n",
    "| Problem            | Time     | Space    | Key Insight                              |\n",
    "|--------------------|----------|----------|------------------------------------------|\n",
    "| Maximum Depth      | O(n)     | O(h)     | Recursive height comparison              |\n",
    "| LCA                | O(n)     | O(h)     | Search both subtrees                     |\n",
    "| Serialize/Deserialize | O(n)  | O(n)     | Preorder with null markers               |\n",
    "| Tree Diameter      | O(n)     | O(h)     | Track max(left + right) during DFS       |\n",
    "| Validate BST       | O(n)     | O(h)     | Inorder traversal order check            |\n",
    "\n",
    "### **Key Takeaways**\n",
    "\n",
    "- Tree Traversals dictate the order of processing nodes (critical for BST operations).\n",
    "\n",
    "- Recursive DFS simplifies problems like LCA and diameter.\n",
    "\n",
    "- BST Validation relies on maintaining order during traversal.\n",
    "\n",
    "- Serialization often uses preorder traversal with placeholders for null nodes.\n"
   ]
  }
 ],
 "metadata": {
  "kernelspec": {
   "display_name": "Python 3",
   "language": "python",
   "name": "python3"
  },
  "language_info": {
   "codemirror_mode": {
    "name": "ipython",
    "version": 3
   },
   "file_extension": ".py",
   "mimetype": "text/x-python",
   "name": "python",
   "nbconvert_exporter": "python",
   "pygments_lexer": "ipython3",
   "version": "3.8.10"
  }
 },
 "nbformat": 4,
 "nbformat_minor": 5
}
