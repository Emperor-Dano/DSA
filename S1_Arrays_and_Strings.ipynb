{
 "cells": [
  {
   "cell_type": "markdown",
   "metadata": {
    "id": "8SAl0XFT2LGd"
   },
   "source": [
    "# 1. **Arrays & Strings**"
   ]
  },
  {
   "cell_type": "markdown",
   "metadata": {
    "id": "R3CEEg-t2oMg"
   },
   "source": [
    "This notebook covers fundamental concepts, algorithms, and problem-solving techniques related to Arrays and Strings."
   ]
  },
  {
   "cell_type": "markdown",
   "metadata": {
    "id": "gslcE4-03sQt"
   },
   "source": [
    "### **Array Definition**\n",
    "An array is a collection of items stored at contiguous memory locations. The items can be of any type, but in most programming languages, all items in an array must be of the same type. Arrays are indexed, meaning you can access any element using its position (index).\n",
    "\n",
    "<br>\n",
    "\n",
    "### **String Definition**\n",
    "A string is an array of characters. In Python, strings are immutable, meaning once created, they cannot be changed. However, you can create new strings based on operations performed on the original string.\n",
    "\n",
    "<br>\n",
    "\n",
    "### **Common Operations on Arrays and Strings**\n",
    "- Accessing Elements: Use the index to access specific elements.\n",
    "\n",
    "- Iterating: Loop through all elements.\n",
    "\n",
    "- Modifying: Change elements in an array (strings are immutable, so you can't modify them directly).\n",
    "\n",
    "- Searching: Find the index of an element.\n",
    "\n",
    "- Sorting: Arrange elements in a specific order."
   ]
  },
  {
   "cell_type": "markdown",
   "metadata": {
    "id": "byWazU-77EDe"
   },
   "source": [
    "## **Basics**"
   ]
  },
  {
   "cell_type": "markdown",
   "metadata": {},
   "source": [
    "### Example: Array and String Basics"
   ]
  },
  {
   "cell_type": "code",
   "execution_count": null,
   "metadata": {
    "colab": {
     "base_uri": "https://localhost:8080/"
    },
    "executionInfo": {
     "elapsed": 8,
     "status": "ok",
     "timestamp": 1744040965823,
     "user": {
      "displayName": "Daniel Akwueze",
      "userId": "09428628927271777029"
     },
     "user_tz": 360
    },
    "id": "gzYK2PUa2D7L",
    "outputId": "1f9a63d7-2dd1-450c-a7ac-ffd5250f1e2a"
   },
   "outputs": [
    {
     "name": "stdout",
     "output_type": "stream",
     "text": [
      "Array: [3, 1, 4, 1, 5, 9, 2, 6, 5, 3, 5]\n",
      "String: hello world\n"
     ]
    }
   ],
   "source": [
    "# Define an array and a string to work with throughout this notebook.\n",
    "example_array = [3, 1, 4, 1, 5, 9, 2, 6, 5, 3, 5]\n",
    "example_string = \"hello world\"\n",
    "\n",
    "print(\"Array:\", example_array)\n",
    "print(\"String:\", example_string)\n"
   ]
  },
  {
   "cell_type": "markdown",
   "metadata": {},
   "source": [
    "### Accessing and Iterating"
   ]
  },
  {
   "cell_type": "code",
   "execution_count": null,
   "metadata": {
    "colab": {
     "base_uri": "https://localhost:8080/"
    },
    "executionInfo": {
     "elapsed": 72,
     "status": "ok",
     "timestamp": 1744040990347,
     "user": {
      "displayName": "Daniel Akwueze",
      "userId": "09428628927271777029"
     },
     "user_tz": 360
    },
    "id": "MLf68FSh63VW",
    "outputId": "b3dad83e-a414-4c3b-8b20-4bc533834bbc"
   },
   "outputs": [
    {
     "name": "stdout",
     "output_type": "stream",
     "text": [
      "First element of array: 3\n",
      "First character of string: h\n",
      "\n",
      "Iterating through array:\n",
      "3 1 4 1 5 9 2 6 5 3 5 \n",
      "\n",
      "Iterating through string:\n",
      "h e l l o   w o r l d "
     ]
    }
   ],
   "source": [
    "# Accessing elements\n",
    "print(\"First element of array:\", example_array[0])\n",
    "print(\"First character of string:\", example_string[0])\n",
    "\n",
    "# Iterating through elements\n",
    "print(\"\\nIterating through array:\")\n",
    "for num in example_array:\n",
    "    print(num, end=\" \")\n",
    "\n",
    "print(\"\\n\\nIterating through string:\")\n",
    "for char in example_string:\n",
    "    print(char, end=\" \")"
   ]
  },
  {
   "cell_type": "markdown",
   "metadata": {
    "id": "rToIerx_7bY2"
   },
   "source": [
    "## **Sorting Algorithms**"
   ]
  },
  {
   "cell_type": "markdown",
   "metadata": {},
   "source": [
    "### Bubble Sort\n",
    "Time Complexity: O(n^2) <br>\n",
    "Space Complexity: O(1)"
   ]
  },
  {
   "cell_type": "code",
   "execution_count": null,
   "metadata": {
    "colab": {
     "base_uri": "https://localhost:8080/"
    },
    "executionInfo": {
     "elapsed": 47,
     "status": "ok",
     "timestamp": 1741843645062,
     "user": {
      "displayName": "Daniel Akwueze",
      "userId": "09428628927271777029"
     },
     "user_tz": 360
    },
    "id": "2j2Gxt5v7ko2",
    "outputId": "4161eb14-d5d4-4981-ad7b-8a6478ed33f4"
   },
   "outputs": [
    {
     "name": "stdout",
     "output_type": "stream",
     "text": [
      "Sorted Array (Bubble Sort): [1, 1, 2, 3, 3, 4, 5, 5, 5, 6, 9]\n"
     ]
    }
   ],
   "source": [
    "#Bubble Sort repeatedly swaps adjacent elements if they are in the wrong order.\n",
    "\n",
    "def bubble_sort(arr):\n",
    "    n = len(arr)\n",
    "    for i in range(n):\n",
    "        for j in range(0, n-i-1):\n",
    "            if arr[j] > arr[j+1]:\n",
    "                arr[j], arr[j+1] = arr[j+1], arr[j]  # Swap\n",
    "    return arr\n",
    "\n",
    "# Time Complexity: O(n^2)\n",
    "# Space Complexity: O(1)\n",
    "\n",
    "sorted_array = bubble_sort(example_array.copy())\n",
    "print(\"Sorted Array (Bubble Sort):\", sorted_array)"
   ]
  },
  {
   "cell_type": "markdown",
   "metadata": {},
   "source": [
    "### Insertion Sort\n",
    "Time Complexity: O(n^2) <br>\n",
    "Space Complexity: O(1)"
   ]
  },
  {
   "cell_type": "code",
   "execution_count": null,
   "metadata": {
    "colab": {
     "base_uri": "https://localhost:8080/"
    },
    "executionInfo": {
     "elapsed": 4,
     "status": "ok",
     "timestamp": 1741843649130,
     "user": {
      "displayName": "Daniel Akwueze",
      "userId": "09428628927271777029"
     },
     "user_tz": 360
    },
    "id": "EGj61_zV-Cw8",
    "outputId": "36031acc-c7ee-4064-a893-ecaa95dc1923"
   },
   "outputs": [
    {
     "name": "stdout",
     "output_type": "stream",
     "text": [
      "Sorted Array (Insertion Sort): [1, 1, 2, 3, 3, 4, 5, 5, 5, 6, 9]\n"
     ]
    }
   ],
   "source": [
    "\"\"\"Insertion Sort builds the final sorted array one element at a time by\n",
    "inserting each element into its correct position.\"\"\"\n",
    "\n",
    "def insertion_sort(arr):\n",
    "    for i in range(1, len(arr)):\n",
    "        key = arr[i]\n",
    "        j = i - 1\n",
    "        while j >= 0 and key < arr[j]:\n",
    "            arr[j + 1] = arr[j]\n",
    "            j -= 1\n",
    "        arr[j + 1] = key\n",
    "    return arr\n",
    "\n",
    "# Time Complexity: O(n^2)\n",
    "# Space Complexity: O(1)\n",
    "\n",
    "sorted_array = insertion_sort(example_array.copy())\n",
    "print(\"Sorted Array (Insertion Sort):\", sorted_array)"
   ]
  },
  {
   "cell_type": "markdown",
   "metadata": {},
   "source": [
    "### Merge Sort\n",
    "Time Complexity: O(n log n) <br>\n",
    "Space Complexity: O(n)"
   ]
  },
  {
   "cell_type": "code",
   "execution_count": null,
   "metadata": {
    "colab": {
     "base_uri": "https://localhost:8080/"
    },
    "executionInfo": {
     "elapsed": 47,
     "status": "ok",
     "timestamp": 1741843696194,
     "user": {
      "displayName": "Daniel Akwueze",
      "userId": "09428628927271777029"
     },
     "user_tz": 360
    },
    "id": "W2BvXykY-Ums",
    "outputId": "11179270-b6b5-4acc-82fa-100011756a2b"
   },
   "outputs": [
    {
     "name": "stdout",
     "output_type": "stream",
     "text": [
      "Sorted Array (Merge Sort): [1, 1, 2, 3, 3, 4, 5, 5, 5, 6, 9]\n"
     ]
    }
   ],
   "source": [
    "\n",
    "\"\"\"Merge Sort divides the array into two halves, recursively sorts them, and\n",
    "then merges the two sorted halves.\"\"\"\n",
    "\n",
    "def merge_sort(arr):\n",
    "    if len(arr) > 1:\n",
    "        mid = len(arr) // 2\n",
    "        left_half = arr[:mid]\n",
    "        right_half = arr[mid:]\n",
    "\n",
    "        merge_sort(left_half)\n",
    "        merge_sort(right_half)\n",
    "\n",
    "        i = j = k = 0\n",
    "\n",
    "        while i < len(left_half) and j < len(right_half):\n",
    "            if left_half[i] < right_half[j]:\n",
    "                arr[k] = left_half[i]\n",
    "                i += 1\n",
    "            else:\n",
    "                arr[k] = right_half[j]\n",
    "                j += 1\n",
    "            k += 1\n",
    "\n",
    "        while i < len(left_half):\n",
    "            arr[k] = left_half[i]\n",
    "            i += 1\n",
    "            k += 1\n",
    "\n",
    "        while j < len(right_half):\n",
    "            arr[k] = right_half[j]\n",
    "            j += 1\n",
    "            k += 1\n",
    "\n",
    "    return arr\n",
    "\n",
    "# Time Complexity: O(n log n)\n",
    "# Space Complexity: O(n)\n",
    "\n",
    "sorted_array = merge_sort(example_array.copy())\n",
    "print(\"Sorted Array (Merge Sort):\", sorted_array)"
   ]
  },
  {
   "cell_type": "markdown",
   "metadata": {
    "id": "NX8JBVxP-kd_"
   },
   "source": [
    "## **Popular Problems and solutions**"
   ]
  },
  {
   "cell_type": "markdown",
   "metadata": {},
   "source": [
    "### Sliding Window Problems\n",
    "Time Complexity: O(n) <br>\n",
    "Space Complexity: O(1)"
   ]
  },
  {
   "cell_type": "code",
   "execution_count": null,
   "metadata": {
    "colab": {
     "base_uri": "https://localhost:8080/"
    },
    "executionInfo": {
     "elapsed": 55,
     "status": "ok",
     "timestamp": 1744041170781,
     "user": {
      "displayName": "Daniel Akwueze",
      "userId": "09428628927271777029"
     },
     "user_tz": 360
    },
    "id": "dLtYM8k1-uHa",
    "outputId": "f8ae1407-be43-4423-9476-e6bb8f842fc8"
   },
   "outputs": [
    {
     "name": "stdout",
     "output_type": "stream",
     "text": [
      "Maximum sum of a subarray of size 3: 17\n"
     ]
    }
   ],
   "source": [
    "\"\"\"\n",
    "Sliding window technique is ideal for substring/subarray problems where we need to:\n",
    "- Find the longest substring with distinct characters\n",
    "- Find subarrays meeting certain sum conditions\n",
    "- Solve problems with fixed window sizes\n",
    "Key aspects:\n",
    "1. Window expands when we need to include more elements\n",
    "2. Window contracts when we need to exclude elements\n",
    "3. Maintains O(n) time complexity for many problems\n",
    "\"\"\"\n",
    "\n",
    "def max_sum_subarray(arr, k):\n",
    "    \"\"\"Finds length of longest sum substring\"\"\"\n",
    "    max_sum = float('-inf')\n",
    "    window_sum = sum(arr[:k])\n",
    "\n",
    "    for i in range(len(arr) - k):\n",
    "        window_sum = window_sum - arr[i] + arr[i + k]\n",
    "        max_sum = max(max_sum, window_sum)\n",
    "\n",
    "    return max_sum\n",
    "\n",
    "# Time Complexity: O(n)\n",
    "# Space Complexity: O(1)\n",
    "\n",
    "k = 3\n",
    "print(f\"Maximum sum of a subarray of size {k}:\", max_sum_subarray(example_array, k))"
   ]
  },
  {
   "cell_type": "markdown",
   "metadata": {},
   "source": [
    "### Two Pointers Technique\n",
    "Time Complexity: O(n) <br>\n",
    "Space Complexity: O(1)"
   ]
  },
  {
   "cell_type": "code",
   "execution_count": null,
   "metadata": {
    "colab": {
     "base_uri": "https://localhost:8080/"
    },
    "executionInfo": {
     "elapsed": 17,
     "status": "ok",
     "timestamp": 1741844155093,
     "user": {
      "displayName": "Daniel Akwueze",
      "userId": "09428628927271777029"
     },
     "user_tz": 360
    },
    "id": "vlhIT3auABSv",
    "outputId": "c295b20c-322d-4d27-bd35-cd3569151f97"
   },
   "outputs": [
    {
     "name": "stdout",
     "output_type": "stream",
     "text": [
      "Two numbers that add up to 9: (3, 6)\n"
     ]
    }
   ],
   "source": [
    "\"\"\"\n",
    "The two pointers technique is optimal for problems involving sorted arrays or linked lists\n",
    "where we need to find pairs meeting certain conditions. It works by:\n",
    "1. Initializing pointers at both ends (or both at start for some problems)\n",
    "2. Moving pointers towards each other based on comparisons\n",
    "3. Efficiently finding solutions in O(n) time with O(1) space\n",
    "Common applications include: two sum, remove duplicates, and container with most water problems.\n",
    "\"\"\"\n",
    "\n",
    "def two_sum(arr, target):\n",
    "    \"\"\"Finds two numbers in a sorted array that add up to target\"\"\"\n",
    "    left, right = 0, len(arr) - 1\n",
    "    while left < right:\n",
    "        current_sum = arr[left] + arr[right]\n",
    "        if current_sum == target:\n",
    "            return (arr[left], arr[right])\n",
    "        elif current_sum < target:\n",
    "            left += 1\n",
    "        else:\n",
    "            right -= 1\n",
    "    return None\n",
    "\n",
    "# Time Complexity: O(n)\n",
    "# Space Complexity: O(1)\n",
    "\n",
    "sorted_array = sorted(example_array)\n",
    "target = 9\n",
    "print(f\"Two numbers that add up to {target}:\", two_sum(sorted_array, target))"
   ]
  },
  {
   "cell_type": "markdown",
   "metadata": {},
   "source": [
    "### Prefix Sum\n",
    "Time Complexity: O(n) for prefix sum, O(1) for range sum <br>\n",
    "Space Complexity: O(n)"
   ]
  },
  {
   "cell_type": "code",
   "execution_count": null,
   "metadata": {
    "colab": {
     "base_uri": "https://localhost:8080/"
    },
    "executionInfo": {
     "elapsed": 15,
     "status": "ok",
     "timestamp": 1741844195682,
     "user": {
      "displayName": "Daniel Akwueze",
      "userId": "09428628927271777029"
     },
     "user_tz": 360
    },
    "id": "ZYJLcCuYANfO",
    "outputId": "123962ec-8377-4add-d042-2cc6314b61dd"
   },
   "outputs": [
    {
     "name": "stdout",
     "output_type": "stream",
     "text": [
      "Sum of elements from index 2 to 5: 19\n"
     ]
    }
   ],
   "source": [
    "\"\"\"The Prefix Sum technique is used to efficiently compute the sum of elements\n",
    " in any subarray. It's particularly useful for problems involving range queries.\"\"\"\n",
    "\n",
    "def prefix_sum(arr):\n",
    "    prefix = [0] * (len(arr) + 1)\n",
    "    for i in range(len(arr)):\n",
    "        prefix[i + 1] = prefix[i] + arr[i]\n",
    "    return prefix\n",
    "\n",
    "def range_sum(prefix, i, j):\n",
    "    return prefix[j + 1] - prefix[i]\n",
    "\n",
    "# Time Complexity: O(n) for prefix sum, O(1) for range sum\n",
    "# Space Complexity: O(n)\n",
    "\n",
    "prefix = prefix_sum(example_array)\n",
    "i, j = 2, 5\n",
    "print(f\"Sum of elements from index {i} to {j}:\", range_sum(prefix, i, j))"
   ]
  },
  {
   "cell_type": "code",
   "execution_count": null,
   "metadata": {
    "executionInfo": {
     "elapsed": 25,
     "status": "ok",
     "timestamp": 1743802469652,
     "user": {
      "displayName": "Daniel Akwueze",
      "userId": "09428628927271777029"
     },
     "user_tz": 360
    },
    "id": "50uBObNPuUJX"
   },
   "outputs": [],
   "source": [
    "#@title Dynamic Programming: Fibonacci Sequence\n",
    "\"\"\"\n",
    "DP approach to Fibonacci demonstrates core principles:\n",
    "1. Optimal substructure - problem can be broken into subproblems\n",
    "2. Overlapping subproblems - solutions can be cached\n",
    "3. Bottom-up vs top-down approaches\n",
    "This shows how to optimize from O(2^n) recursive to O(n) time\n",
    "\"\"\"\n",
    "\n",
    "def fibonacci_dp(n):\n",
    "    \"\"\"Computes nth Fibonacci number using DP\"\"\"\n",
    "    if n <= 1:\n",
    "        return n\n",
    "\n",
    "    dp = [0] * (n + 1)\n",
    "    dp[1] = 1\n",
    "\n",
    "    for i in range(2, n + 1):\n",
    "        dp[i] = dp[i-1] + dp[i-2]\n",
    "\n",
    "    return dp[n]\n",
    "\n",
    "# Time Complexity: O(n)\n",
    "# Space Complexity: O(n) [can be optimized to O(1)]"
   ]
  }
 ],
 "metadata": {
  "colab": {
   "authorship_tag": "ABX9TyPjb5ccMZSkKkYwk0q1ElGr",
   "provenance": []
  },
  "kernelspec": {
   "display_name": "Python 3",
   "name": "python3"
  },
  "language_info": {
   "name": "python"
  }
 },
 "nbformat": 4,
 "nbformat_minor": 0
}
